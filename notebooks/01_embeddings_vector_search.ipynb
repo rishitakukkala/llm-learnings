{
 "cells": [
  {
   "cell_type": "markdown",
   "id": "170e96b5-7cbf-428e-9c9b-0b94e53b61b6",
   "metadata": {},
   "source": [
    "# 🧠 Embeddings and Vector Search\n",
    "This notebook demonstrates how textual meaning can be represented numerically using *embeddings*.\n",
    "We'll explore:\n",
    "- Sentence-level embeddings with **SentenceTransformers**\n",
    "- Vector similarity search using **FAISS**\n",
    "- Visualization of text similarity using **PCA** and **t-SNE**"
   ]
  },
  {
   "cell_type": "code",
   "execution_count": 4,
   "id": "e8e1d8dc-ff85-46d9-87f4-90a13268ddd2",
   "metadata": {},
   "outputs": [],
   "source": [
    "# !pip install sentence-transformers faiss-cpu pandas matplotlib scikit-learn"
   ]
  },
  {
   "cell_type": "code",
   "execution_count": 23,
   "id": "7d777ba1-e22a-4157-813c-8572db47852f",
   "metadata": {},
   "outputs": [],
   "source": [
    "from sentence_transformers import SentenceTransformer\n",
    "import faiss\n",
    "import numpy as np\n",
    "import pandas as pd\n",
    "import matplotlib.pyplot as plt\n",
    "from sklearn.decomposition import PCA\n",
    "from sklearn.manifold import TSNE\n",
    "import os\n",
    "os.environ[\"HF_HUB_DISABLE_SYMLINKS_WARNING\"] = \"1\""
   ]
  },
  {
   "cell_type": "code",
   "execution_count": 8,
   "id": "a5d8ddc5-480b-4cbb-93e1-50ddc2fa9036",
   "metadata": {},
   "outputs": [
    {
     "data": {
      "text/html": [
       "<div>\n",
       "<style scoped>\n",
       "    .dataframe tbody tr th:only-of-type {\n",
       "        vertical-align: middle;\n",
       "    }\n",
       "\n",
       "    .dataframe tbody tr th {\n",
       "        vertical-align: top;\n",
       "    }\n",
       "\n",
       "    .dataframe thead th {\n",
       "        text-align: right;\n",
       "    }\n",
       "</style>\n",
       "<table border=\"1\" class=\"dataframe\">\n",
       "  <thead>\n",
       "    <tr style=\"text-align: right;\">\n",
       "      <th></th>\n",
       "      <th>document</th>\n",
       "    </tr>\n",
       "  </thead>\n",
       "  <tbody>\n",
       "    <tr>\n",
       "      <th>0</th>\n",
       "      <td>The cat sits on the mat.</td>\n",
       "    </tr>\n",
       "    <tr>\n",
       "      <th>1</th>\n",
       "      <td>Dogs are playing in the park.</td>\n",
       "    </tr>\n",
       "    <tr>\n",
       "      <th>2</th>\n",
       "      <td>Quantum physics explores the behavior of parti...</td>\n",
       "    </tr>\n",
       "    <tr>\n",
       "      <th>3</th>\n",
       "      <td>Machine learning is a subset of artificial int...</td>\n",
       "    </tr>\n",
       "    <tr>\n",
       "      <th>4</th>\n",
       "      <td>Neural networks are used for image recognition.</td>\n",
       "    </tr>\n",
       "    <tr>\n",
       "      <th>5</th>\n",
       "      <td>Investors analyze market trends to make decisi...</td>\n",
       "    </tr>\n",
       "    <tr>\n",
       "      <th>6</th>\n",
       "      <td>The stock market fluctuates daily.</td>\n",
       "    </tr>\n",
       "    <tr>\n",
       "      <th>7</th>\n",
       "      <td>A pizza with cheese and olives tastes great.</td>\n",
       "    </tr>\n",
       "    <tr>\n",
       "      <th>8</th>\n",
       "      <td>Rainy weather makes plants grow.</td>\n",
       "    </tr>\n",
       "    <tr>\n",
       "      <th>9</th>\n",
       "      <td>Climate change affects global ecosystems.</td>\n",
       "    </tr>\n",
       "  </tbody>\n",
       "</table>\n",
       "</div>"
      ],
      "text/plain": [
       "                                            document\n",
       "0                           The cat sits on the mat.\n",
       "1                      Dogs are playing in the park.\n",
       "2  Quantum physics explores the behavior of parti...\n",
       "3  Machine learning is a subset of artificial int...\n",
       "4    Neural networks are used for image recognition.\n",
       "5  Investors analyze market trends to make decisi...\n",
       "6                 The stock market fluctuates daily.\n",
       "7       A pizza with cheese and olives tastes great.\n",
       "8                   Rainy weather makes plants grow.\n",
       "9          Climate change affects global ecosystems."
      ]
     },
     "execution_count": 8,
     "metadata": {},
     "output_type": "execute_result"
    }
   ],
   "source": [
    "docs = [\n",
    "    \"The cat sits on the mat.\",\n",
    "    \"Dogs are playing in the park.\",\n",
    "    \"Quantum physics explores the behavior of particles.\",\n",
    "    \"Machine learning is a subset of artificial intelligence.\",\n",
    "    \"Neural networks are used for image recognition.\",\n",
    "    \"Investors analyze market trends to make decisions.\",\n",
    "    \"The stock market fluctuates daily.\",\n",
    "    \"A pizza with cheese and olives tastes great.\",\n",
    "    \"Rainy weather makes plants grow.\",\n",
    "    \"Climate change affects global ecosystems.\"\n",
    "]\n",
    "\n",
    "df = pd.DataFrame(docs, columns=['document'])\n",
    "df"
   ]
  },
  {
   "cell_type": "code",
   "execution_count": 25,
   "id": "41f7c4a1-c608-4db1-943c-8d252da9cfd5",
   "metadata": {},
   "outputs": [
    {
     "data": {
      "application/vnd.jupyter.widget-view+json": {
       "model_id": "9e7619c3d5eb4d05a4d0e14cc87ac60c",
       "version_major": 2,
       "version_minor": 0
      },
      "text/plain": [
       "Batches:   0%|          | 0/1 [00:00<?, ?it/s]"
      ]
     },
     "metadata": {},
     "output_type": "display_data"
    },
    {
     "data": {
      "text/plain": [
       "(10, 384)"
      ]
     },
     "execution_count": 25,
     "metadata": {},
     "output_type": "execute_result"
    }
   ],
   "source": [
    "model = SentenceTransformer('all-MiniLM-L6-v2')\n",
    "embeddings = model.encode(df['document'], show_progress_bar=True)\n",
    "embeddings.shape"
   ]
  },
  {
   "cell_type": "code",
   "execution_count": 12,
   "id": "253f30fd-0d05-4d3d-949e-25895b5e01a6",
   "metadata": {},
   "outputs": [
    {
     "name": "stdout",
     "output_type": "stream",
     "text": [
      "Total vectors in index: 10\n"
     ]
    }
   ],
   "source": [
    "dimension = embeddings.shape[1]\n",
    "index = faiss.IndexFlatL2(dimension)  # L2 distance\n",
    "index.add(np.array(embeddings))\n",
    "print(f\"Total vectors in index: {index.ntotal}\")"
   ]
  },
  {
   "cell_type": "code",
   "execution_count": 14,
   "id": "a96a970a-33b3-4c5e-b81f-c1cdca9b9c4e",
   "metadata": {},
   "outputs": [
    {
     "name": "stdout",
     "output_type": "stream",
     "text": [
      "Query: What models are used for AI?\n",
      "\n",
      "Top matches:\n",
      "\n",
      "1. Neural networks are used for image recognition. (Distance: 1.0075)\n",
      "2. Machine learning is a subset of artificial intelligence. (Distance: 1.1302)\n",
      "3. Investors analyze market trends to make decisions. (Distance: 1.6653)\n"
     ]
    }
   ],
   "source": [
    "query = \"What models are used for AI?\"\n",
    "query_embedding = model.encode([query])\n",
    "\n",
    "k = 3  # top results\n",
    "distances, indices = index.search(np.array(query_embedding), k)\n",
    "\n",
    "print(\"Query:\", query)\n",
    "print(\"\\nTop matches:\\n\")\n",
    "for i, idx in enumerate(indices[0]):\n",
    "    print(f\"{i+1}. {df.iloc[idx]['document']} (Distance: {distances[0][i]:.4f})\")"
   ]
  },
  {
   "cell_type": "code",
   "execution_count": 16,
   "id": "db2e423b-db9b-4ed5-ae91-74b2d8b7a3d2",
   "metadata": {},
   "outputs": [
    {
     "data": {
      "image/png": "[encoded data removed]",
      "text/plain": [
       "<Figure size 1000x600 with 1 Axes>"
      ]
     },
     "metadata": {},
     "output_type": "display_data"
    }
   ],
   "source": [
    "pca = PCA(n_components=2)\n",
    "reduced = pca.fit_transform(embeddings)\n",
    "\n",
    "plt.figure(figsize=(10,6))\n",
    "plt.scatter(reduced[:,0], reduced[:,1])\n",
    "for i, text in enumerate(df['document']):\n",
    "    plt.annotate(f\"{i}\", (reduced[i,0], reduced[i,1]))\n",
    "plt.title(\"Document Embeddings (PCA Projection)\")\n",
    "plt.show()"
   ]
  },
  {
   "cell_type": "code",
   "execution_count": 21,
   "id": "18191619-b82f-4a62-8ac3-dc4f349c7943",
   "metadata": {},
   "outputs": [
    {
     "data": {
      "image/png": "[encoded data removed]",
      "text/plain": [
       "<Figure size 1000x600 with 1 Axes>"
      ]
     },
     "metadata": {},
     "output_type": "display_data"
    }
   ],
   "source": [
    "tsne = TSNE(n_components=2, random_state=42, perplexity=len(docs)//2)\n",
    "tsne_result = tsne.fit_transform(embeddings)\n",
    "\n",
    "\n",
    "plt.figure(figsize=(10,6))\n",
    "plt.scatter(tsne_result[:,0], tsne_result[:,1])\n",
    "for i, text in enumerate(df['document']):\n",
    "    plt.annotate(f\"{i}\", (tsne_result[i,0], tsne_result[i,1]))\n",
    "plt.title(\"t-SNE Visualization of Semantic Space\")\n",
    "plt.show()"
   ]
  },
  {
   "cell_type": "markdown",
   "id": "c7a19660-1fce-4340-aef0-68e38747ca6c",
   "metadata": {},
   "source": [
    "## Key Takeaways\n",
    "- Sentence embeddings capture **semantic meaning** beyond keywords.\n",
    "- FAISS enables efficient **vector similarity search**.\n",
    "- PCA and t-SNE reveal **semantic clusters** visually.\n",
    "- You can replace SentenceTransformers with **OpenAI ada-002** or **Azure embeddings** for larger projects."
   ]
  },
  {
   "cell_type": "code",
   "execution_count": null,
   "id": "e8059036-9a53-43d4-8e01-28ea22e4c246",
   "metadata": {},
   "outputs": [],
   "source": []
  }
 ],
 "metadata": {
  "kernelspec": {
   "display_name": "Python 3 (ipykernel)",
   "language": "python",
   "name": "python3"
  },
  "language_info": {
   "codemirror_mode": {
    "name": "ipython",
    "version": 3
   },
   "file_extension": ".py",
   "mimetype": "text/x-python",
   "name": "python",
   "nbconvert_exporter": "python",
   "pygments_lexer": "ipython3",
   "version": "3.12.4"
  }
 },
 "nbformat": 4,
 "nbformat_minor": 5
}
