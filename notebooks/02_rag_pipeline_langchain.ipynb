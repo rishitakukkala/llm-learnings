{
 "cells": [
  {
   "cell_type": "code",
   "execution_count": 4,
   "metadata": {
    "id": "qo0MLWZi9pmW"
   },
   "outputs": [],
   "source": [
    "from langchain.document_loaders import TextLoader\n",
    "from langchain.text_splitter import RecursiveCharacterTextSplitter\n",
    "from langchain.embeddings import SentenceTransformerEmbeddings\n",
    "from langchain.vectorstores import Chroma\n",
    "from langchain.chains import RetrievalQA\n",
    "from langchain.llms import HuggingFacePipeline\n",
    "\n",
    "from transformers import AutoTokenizer, AutoModelForCausalLM, pipeline\n",
    "import torch, os"
   ]
  },
  {
   "cell_type": "code",
   "execution_count": 5,
   "metadata": {
    "id": "ab93eb0d"
   },
   "outputs": [],
   "source": [
    "# ------------------------------------------------------------\n",
    "# 1️⃣  Sample Knowledge Source\n",
    "# ------------------------------------------------------------\n",
    "sample_text = \"\"\"\n",
    "The University of Miami offers a one-year Master’s in Data Science program.\n",
    "The curriculum emphasizes machine learning, deep learning, and statistics.\n",
    "An internship is required for graduation.\n",
    "Applications open each August and close each January.\n",
    "\"\"\"\n",
    "\n",
    "with open(\"sample_data.txt\", \"w\") as f:\n",
    "    f.write(sample_text)\n",
    "\n",
    "loader = TextLoader(\"sample_data.txt\")\n",
    "docs = loader.load()"
   ]
  },
  {
   "cell_type": "code",
   "execution_count": 6,
   "metadata": {
    "colab": {
     "base_uri": "https://localhost:8080/"
    },
    "id": "jt5ibm9m9trs",
    "outputId": "00e4f146-4cf3-4eba-dc05-5b8001bb3151"
   },
   "outputs": [
    {
     "name": "stdout",
     "output_type": "stream",
     "text": [
      "Chunks created: 1\n"
     ]
    }
   ],
   "source": [
    "# ------------------------------------------------------------\n",
    "# 2️⃣  Split Text into Chunks\n",
    "# ------------------------------------------------------------\n",
    "splitter = RecursiveCharacterTextSplitter(chunk_size=300, chunk_overlap=50)\n",
    "splits = splitter.split_documents(docs)\n",
    "print(f\"Chunks created: {len(splits)}\")"
   ]
  },
  {
   "cell_type": "code",
   "execution_count": 7,
   "metadata": {
    "colab": {
     "base_uri": "https://localhost:8080/",
     "height": 528,
     "referenced_widgets": [
      "456c50f595ed4a2dad9def7b03feacf6",
      "711f46efb5984ab0bf9bf45cd3170f8e",
      "c6dc297af4c14112b26670e54a888f92",
      "dfee6220a7094357ac1ce2fe690a848b",
      "1e04fbbfb6104806869798087666a462",
      "727991cae0ef4737a928adb7fcce7e70",
      "09753eb361b64ddcae230066a7de1f46",
      "77c48fa45d974caeba190d519e1843f5",
      "da10565a2683405c8ba091c8320425f3",
      "4a7c9a129d8645729a3efecafb03df1a",
      "048f8ca9444b4e5d928fff841fe6a061",
      "d4922f95c4b54c57a8259180aaadc800",
      "9e9bd5da47cd4874ac9675205c1429d9",
      "eecdbed645d444428279827fbee37d9c",
      "2d6a5b8c91574c588f3390da6f464a32",
      "08268f82aed74a10943de6e2f9247225",
      "b28678ab07304338813ef2dc772d3fea",
      "4675f4d9e9cb4569869bbc608f81dc18",
      "59afb49008c4435588a7a0316d4b0210",
      "1eae88e20740416b9be081020b9f095b",
      "e8de1e0ce0764968908e4c02c96a623e",
      "8e5893148d524ea4b0cedfe09612e7b0",
      "30b9414ad2cd4c21bec79ebf0a86fce6",
      "d6971c54082d4c65b2bed4567054e2ce",
      "a12aca439b76406fb01104a82f272431",
      "d879ea69bf974ef2baf36c89f6c342be",
      "bf3a164811934e19a0b91481dc64dd14",
      "8833e6190dbe4aeda687f66e6e0dc05f",
      "082e0e0320f54f8780874473cedf99ca",
      "8cf60a515cd041b8a1f884abeb8aee2d",
      "90c4cce12b4f4a9aa13cab14ef613d1d",
      "fcff2a7e664e465fb52c6b275720339e",
      "e50a71b7b16e4d0e9c964625ff5edc73",
      "9c100e70347d4120afef5577c59f096a",
      "fb7a366d31684702a80b132e76c070eb",
      "90bd0550c8404167ab0336c6d9cb4616",
      "8c93ef96655c4584801e1b6fd15c9208",
      "97bdff18dfea45e1b76b1304762768af",
      "9210b0a890804b0e8be06939e6e6bd88",
      "3f0eb079db6c42c9a60a146736dd03ce",
      "8fe62f0cbe974622b8896c96fb20cc71",
      "d4553dbd3240477592593fc470e02ea9",
      "b518e56268cc470b801d35f8fbf3a98c",
      "05a1449c8b06459ab0877d3b5d5914aa",
      "92da0474f41a4780a39b8d40a5cfa1ad",
      "c58b47f446fb43599b11cd1fcef6774b",
      "7f5e30844b3b48ecb5456adf58cd92da",
      "58f16324de72458bbe4b27daa7841507",
      "cf8a31b1e22f49bcad03253b274b4917",
      "8070bedab6a04aa58a608858922a2812",
      "1a7aa4e7111443e5a9a15d46c48c343d",
      "919d93eef92a4cff95fcb951bef26276",
      "4b6cef255aab4a948f6e4784ba5c36ff",
      "a02dc7a6d9c74fcfa37fea7ec0ad3f11",
      "81ac60d397444dbeac21dc077355f170",
      "204be231fda84bd488e526e52772891a",
      "162176e1fd1849beb067f2c55952b71c",
      "12215ab84df547159be822732a326e57",
      "6c7aa096cc064e32818d1c2042b13419",
      "0d108d7ba3774bfa8cbbd81898f61d85",
      "65d1c83f586c423ebdd689c68aafb984",
      "c5f581d1773a496db0dc7bbbb6ee5180",
      "8acca2a7e29548b69f9f1e146f9253d8",
      "46632fcfc01e410d9a3da6a0c5bc669f",
      "7d4e49ada09e4caf9aa33dcd19503ea7",
      "929a935ae5be4c7f9a2bbaf0258a3a48",
      "567e810951914d748b0f52372ca86bf9",
      "0ff2aa330e8b4b808e2c8bf2fcd3b1e7",
      "71c33a27e1f9445fa2a41cc00d26b0f0",
      "6a720aa1b2f347749cd9e8107c99fb02",
      "44995cb7382149acad979b85732952dd",
      "cd6bb8a9409f4199b83c7a0d414064ca",
      "c163b8a4e7ec43919471513b393415bc",
      "b08f3f3e9bde4a2cae6915e58d1d7083",
      "a963170356a740bba00f9c17043981f7",
      "8443280a84ed413384b3ff2f40993abb",
      "118e56db03454926ba216673b62476f8",
      "20b3b69ec45c4bafa7101e1474fe35bb",
      "9fe58e1242fe40e5874e5aeff7bfcd4f",
      "282b25354f9847159a47fe070ecfa55a",
      "28bb58e0bdb8409fa63511b154a44f5f",
      "4a495d1507fe41fda66ecda7a1b386ce",
      "a37ef5aa4c6840cfb3f1d6bdb4230663",
      "f5a2c921347a4c13930506f281ff7144",
      "c95d46deb37342a39bb321da00e9f6db",
      "2d378ab89b6648b39fbd9e307cc54c30",
      "0d4d3a40d2c74ffdb6ae7ba7515bb3fc",
      "c6b5ca6cb62643c891debf5d1e12c75a",
      "d9b44a2dcb864bacb2777a1dc6c85b23",
      "4b86eed566c346f68da6858db775bdf3",
      "024db6d2ac314feb923516860e2f193e",
      "cb7b7e797a43447ab3af63ffac629dfb",
      "656f4ce0ae544596aa4bc5641c7bfc9b",
      "9bd356e3599441198c389745fd55af6e",
      "81d23d32a1fe418388a4f86709dc5f46",
      "18076b2da4374893aea7c5d40d4214e0",
      "69b84ff6c2d84bbaa981e0e70ca36677",
      "900c7e17fa754660b43465f91220709a",
      "0e9465fcd2a54d2c802aadb8c88da9c7",
      "e0148dff5ece4bfa84d299784d94e8a3",
      "563159c223844ef1ac06616216816d57",
      "949f6433ab344d61803512eac046817e",
      "e491caeb67774a28ac7b39ada8c57ccf",
      "b81337849ec643489a957336ce9db9be",
      "9e784499e1144afea2fb8ed23cd6118a",
      "adf70e99062b44eba927118e3217529b",
      "f14a5def4cbb4886b85fdf1d2595585f",
      "4f45bd5c492646959ef2f555b7a420eb",
      "d8320f584e964f32ae75d5527f7bd2a5",
      "033d091103ff4fc49e83cd257e1fc752",
      "069fa5bd34844a4890956a6c591fe3f9",
      "72c143da59324a1abcaab4381979a079",
      "d60dc828380447e09e19807fa856d444",
      "593be51368ac4eaab456284346dd0f78",
      "f0e5d353a0d8491489def1b2696c5590",
      "f95e8cf65c0b41799152c667fce42553",
      "b7965db3e52044d599605b4afe5271ff",
      "0b7a70d914e742049908cca9c218988f",
      "3cd6cf8beb71416fb205e9faa50a34cc",
      "474383d766384904a5a2f8004b4258d0",
      "1fc1a2d007ac4b8487d00043598d0113"
     ]
    },
    "id": "3LVgq0RY-qhX",
    "outputId": "898fb02d-5614-4411-8475-f6de6e1931a3"
   },
   "outputs": [
    {
     "name": "stderr",
     "output_type": "stream",
     "text": [
      "/tmp/ipython-input-4183619072.py:4: LangChainDeprecationWarning: The class `HuggingFaceEmbeddings` was deprecated in LangChain 0.2.2 and will be removed in 1.0. An updated version of the class exists in the :class:`~langchain-huggingface package and should be used instead. To use it run `pip install -U :class:`~langchain-huggingface` and import as `from :class:`~langchain_huggingface import HuggingFaceEmbeddings``.\n",
      "  embedding_fn = SentenceTransformerEmbeddings(model_name=\"all-MiniLM-L6-v2\")\n",
      "/usr/local/lib/python3.12/dist-packages/huggingface_hub/utils/_auth.py:94: UserWarning: \n",
      "The secret `HF_TOKEN` does not exist in your Colab secrets.\n",
      "To authenticate with the Hugging Face Hub, create a token in your settings tab (https://huggingface.co/settings/tokens), set it as secret in your Google Colab and restart your session.\n",
      "You will be able to reuse this secret in all of your notebooks.\n",
      "Please note that authentication is recommended but still optional to access public models or datasets.\n",
      "  warnings.warn(\n"
     ]
    },
    {
     "data": {
      "application/vnd.jupyter.widget-view+json": {
       "model_id": "456c50f595ed4a2dad9def7b03feacf6",
       "version_major": 2,
       "version_minor": 0
      },
      "text/plain": [
       "modules.json:   0%|          | 0.00/349 [00:00<?, ?B/s]"
      ]
     },
     "metadata": {},
     "output_type": "display_data"
    },
    {
     "data": {
      "application/vnd.jupyter.widget-view+json": {
       "model_id": "d4922f95c4b54c57a8259180aaadc800",
       "version_major": 2,
       "version_minor": 0
      },
      "text/plain": [
       "config_sentence_transformers.json:   0%|          | 0.00/116 [00:00<?, ?B/s]"
      ]
     },
     "metadata": {},
     "output_type": "display_data"
    },
    {
     "data": {
      "application/vnd.jupyter.widget-view+json": {
       "model_id": "30b9414ad2cd4c21bec79ebf0a86fce6",
       "version_major": 2,
       "version_minor": 0
      },
      "text/plain": [
       "README.md: 0.00B [00:00, ?B/s]"
      ]
     },
     "metadata": {},
     "output_type": "display_data"
    },
    {
     "data": {
      "application/vnd.jupyter.widget-view+json": {
       "model_id": "9c100e70347d4120afef5577c59f096a",
       "version_major": 2,
       "version_minor": 0
      },
      "text/plain": [
       "sentence_bert_config.json:   0%|          | 0.00/53.0 [00:00<?, ?B/s]"
      ]
     },
     "metadata": {},
     "output_type": "display_data"
    },
    {
     "data": {
      "application/vnd.jupyter.widget-view+json": {
       "model_id": "92da0474f41a4780a39b8d40a5cfa1ad",
       "version_major": 2,
       "version_minor": 0
      },
      "text/plain": [
       "config.json:   0%|          | 0.00/612 [00:00<?, ?B/s]"
      ]
     },
     "metadata": {},
     "output_type": "display_data"
    },
    {
     "data": {
      "application/vnd.jupyter.widget-view+json": {
       "model_id": "204be231fda84bd488e526e52772891a",
       "version_major": 2,
       "version_minor": 0
      },
      "text/plain": [
       "model.safetensors:   0%|          | 0.00/90.9M [00:00<?, ?B/s]"
      ]
     },
     "metadata": {},
     "output_type": "display_data"
    },
    {
     "data": {
      "application/vnd.jupyter.widget-view+json": {
       "model_id": "567e810951914d748b0f52372ca86bf9",
       "version_major": 2,
       "version_minor": 0
      },
      "text/plain": [
       "tokenizer_config.json:   0%|          | 0.00/350 [00:00<?, ?B/s]"
      ]
     },
     "metadata": {},
     "output_type": "display_data"
    },
    {
     "data": {
      "application/vnd.jupyter.widget-view+json": {
       "model_id": "20b3b69ec45c4bafa7101e1474fe35bb",
       "version_major": 2,
       "version_minor": 0
      },
      "text/plain": [
       "vocab.txt: 0.00B [00:00, ?B/s]"
      ]
     },
     "metadata": {},
     "output_type": "display_data"
    },
    {
     "data": {
      "application/vnd.jupyter.widget-view+json": {
       "model_id": "d9b44a2dcb864bacb2777a1dc6c85b23",
       "version_major": 2,
       "version_minor": 0
      },
      "text/plain": [
       "tokenizer.json: 0.00B [00:00, ?B/s]"
      ]
     },
     "metadata": {},
     "output_type": "display_data"
    },
    {
     "data": {
      "application/vnd.jupyter.widget-view+json": {
       "model_id": "e0148dff5ece4bfa84d299784d94e8a3",
       "version_major": 2,
       "version_minor": 0
      },
      "text/plain": [
       "special_tokens_map.json:   0%|          | 0.00/112 [00:00<?, ?B/s]"
      ]
     },
     "metadata": {},
     "output_type": "display_data"
    },
    {
     "data": {
      "application/vnd.jupyter.widget-view+json": {
       "model_id": "069fa5bd34844a4890956a6c591fe3f9",
       "version_major": 2,
       "version_minor": 0
      },
      "text/plain": [
       "config.json:   0%|          | 0.00/190 [00:00<?, ?B/s]"
      ]
     },
     "metadata": {},
     "output_type": "display_data"
    }
   ],
   "source": [
    "# ------------------------------------------------------------\n",
    "# 3️⃣  Create Embeddings (open model)\n",
    "# ------------------------------------------------------------\n",
    "embedding_fn = SentenceTransformerEmbeddings(model_name=\"all-MiniLM-L6-v2\")\n",
    "\n",
    "# Build Chroma vector DB\n",
    "vectordb = Chroma.from_documents(splits, embedding_fn)\n",
    "retriever = vectordb.as_retriever(search_kwargs={\"k\": 3})"
   ]
  },
  {
   "cell_type": "code",
   "execution_count": 8,
   "metadata": {
    "colab": {
     "base_uri": "https://localhost:8080/",
     "height": 700,
     "referenced_widgets": [
      "c4ba3c80ea604709bf611d8032088237",
      "2ba09715766b44ea88f7f6f8b9c8b21c",
      "9e4ed8137d404a6d96957f3b6f01e847",
      "51d06682bb894d09a444d73e7cc89f8c",
      "0d26307f7b9543d997824b46579d8bfe",
      "3d3b2eb4e56f4e46919ecfe6878d8f9d",
      "5f45892af38b464eab496fdd81d6242a",
      "db516a03334940f8adfefb91ab917c72",
      "ece1d944e309463d852d72d71973210a",
      "df80faedb8e44ef096e05a9b08d026db",
      "b15e9f9941b14dfc89dc095b654e0d38",
      "fe76560b6c154b37b249e27f47e9e61e",
      "bb48f4eccc954178870bba76ba5aee65",
      "256d8bc19d33433ca306e07266ad58b2",
      "349f5cabfbc84c3c935e30f5bd4403dd",
      "f06f413a5d444ead853f85e8b6e49fcf",
      "d0b935c5174046d9878d515aa4897439",
      "2415257be97749a8b14af33eea62fcc1",
      "118827bc27fd4740bccbdf3400aac753",
      "ddbc9ac804f34ba880816aa93add9b0d",
      "3156f3df9d2c4f0fa4bb6455c37bf184",
      "ad19034b1c374104a31c5b40f0a2efe0",
      "3a7a6745352046429d726640bd7131de",
      "b18e06511e9b4cf2b9ea08ceead327da",
      "80945af7ca494c8eb2e29f00781550ed",
      "70356c0229ee432d83693799b414bb0d",
      "00b17fa6447d4f52838ecdeb2ceb75e1",
      "c0217e63262b4711b03ced7144dfdd1b",
      "1a24f2635d5246f48f6fc6ab59b028ce",
      "400fe57d403440639aa5c54890777ba3",
      "043dddb2522a4055b6ba769451e9ef11",
      "47330d0427eb449e9d44513b9ad53a29",
      "a9531a0421f34a17a93a21ebce20716c",
      "bfae2fa8ee6d4327878189ee40728f47",
      "855bc23adca24ffa9dd1ea4a22acd80d",
      "73b83b5cf87446fdac1fdd0a7f903485",
      "bea6d67126a448e69ed064e2958d1ffa",
      "f53866751a7b401687a53217aec06480",
      "8ae247013741429090155b4c81c793d1",
      "792524e710da46e7b28b5dbae50ba2d7",
      "7de677256a344ea2a65950bdf4bfc0b8",
      "b83b1270f7e74748a8a8b5927d7578ef",
      "ac21d14e8a6c4e1ca2eb32e1d24dca84",
      "cf6ee46df2d94ca9a0137594dd0178e3",
      "50235aa06e8f4cb8b123d4572c7224a7",
      "0989762879b64a85a426d43e06115531",
      "11a2b1954a284224ae783afc00f172bc",
      "3a21dfe7e41248d19e023f7fc1de0458",
      "041391343c3a4371997b69e6b8b9f087",
      "b3d38c4b97eb43629d141445f270c18b",
      "edca856d8daa419abeb33c687d4ddd70",
      "1779fdd0004a4322abd545896de51e57",
      "f1949ae887424e2fa7600e260c8a3d2e",
      "aab7b5bb6c5045d3b475a406b21446ac",
      "c9b69de1cdd04811b10cf9847dbbfb7e",
      "597d7bac5c7d4c32be5c25a92e044cc6",
      "a92417034430466d8844c9c5ae11911a",
      "f2851030e5074c46b5a2559d3040c132",
      "16c8a29a4da845e78b893a0c4eed2806",
      "9247469569e44f06969bd275bd2550b6",
      "38b3d9990cd949a2aac206bebfa93c08",
      "a18c73f7d63d4e07b01dba54c4cdb59f",
      "5fdc643289ea4ee18acec6fd43266c5d",
      "88acc5392f134a64833788fdc045ab88",
      "4567a725b017407983070b6d4125e6c3",
      "cafee177d9f040419a40920c213ebcad",
      "2e2d72de682c4cd5989c2b92c180dd3c",
      "ad614440fbb74193ae8e0fbd79599f7c",
      "03fb1ec94eda43b5aaf927b8e9a256b5",
      "1725f698e48745e4a09ae905fbaa2f6e",
      "403f99cea58e4e1789b8a2d60ced73a8",
      "baa89030e5b14f7795fc360347813fce",
      "53903879dcc2454aa2e30788e4959dcc",
      "7d19cb92ee744d08b7498d4bd4d18771",
      "dbd96ce2c58a450b8d6da44c412b4a29",
      "eb3963789d354e18969c6d3b7a30aeb3",
      "e508d3057c584fbdaf8296c5b47e0224",
      "5d10ee17099d4d9585422260fb08668c",
      "b60001cfdabf435f9c0f9a5656c623aa",
      "85794007c22c4361a3f35776f84e8158",
      "2c9db4275f994a69abb16e43f22d5233",
      "419b9cb16a72405f80ba037f29baa960",
      "122a49e9e21240979cbaced6419ec539",
      "b5aa5db2b7a949f2aff76ed3e007d714",
      "90253c694f1844b296e19ab4d0707d60",
      "b5948888eea54bfbb03523aa944303cb",
      "ed8fefce7daf48bd9cf1212eccfdb217",
      "49aa539457bb49a98134d029c639ed2b",
      "2f8d3d0e8f0f49b8b3f93420fa7bda50",
      "310c6bd542d646918ff8e2c8305ff07f",
      "c681ddd380e24085aa2ba927c7a13817",
      "bd5ae1508eda454f8c255cf7f97b944a",
      "ff6160cf0cad4e96a437a798f9293436",
      "a881317afd4a4b0c8013ecf4ff46c08c",
      "b4a5ed791d664cb39f826e5812ef21df",
      "bf14b6ae1c7a457eb4366caefe2d1dc3",
      "08e60bba8de245828cdcb60012e8bba8",
      "ad0739ed40ca494c85ff134bcc7529ca",
      "d8bb8d0ab92c462392d5c402591ee0dd",
      "e866a0b7442e4216bdcae665079226ff",
      "6e126d844ebe43b8ba6ce95648aa0c50",
      "558f7aba7ea745b5995f6a8a975aa3f1",
      "758f88b678ac4fb291b2c2c4e2df03bd",
      "d880244c7f904013926b8ec2797d697c",
      "ac07133538514f0180ff137d6ba32ee6",
      "67b1874f631d46fdaee6b7807a01f106",
      "bec94b4544b64826ae45788aaed73717",
      "0e3df3fa3e2148ed8703a1d1265b2a10",
      "f4586a7d2da940a2ae926597407e6908",
      "69d891c4c5724c2cab1dba17741657da",
      "030056a64e884e438d0d23931f2fb84e",
      "539fe7b8692b4a4c8ce92f559d86b38d",
      "b00d189d9963475bae65866b4d2a8528",
      "754245a67b4f4c26b597561fc57e9501",
      "4bf726389bed4c9bb7b60e726f5e2d08",
      "21dde02e13984f2593b86dee702e2c04",
      "47672acbe4184d149adfd0fab2f129dd",
      "2e89b9dc3fc649aab08ac28d5ed4aa01",
      "7a02c938797f4ca98e5b5b8e78c837e9",
      "70bbd276b0444a9ab6dcf2f10bca1020",
      "9288d159300f49d79f3f1d264dd45837",
      "c815bd6d5f9f4037acea9ee8ff25843a",
      "88921a1bd1ce487abda5ecd3a4a4dc13",
      "0c2eb885edc6418ca2e54d3c893d0625",
      "02d1248486d64473b6b3322f94395fd1",
      "25ccebcc124d4d288e959a5f72106107",
      "f3a91f04690b410b9dfe5e00713b09fb",
      "18033efc0b4d4dffa0ce1e6d66129ed2",
      "75ac19d1461548e3bd646f44ca43edf0",
      "9fdcd804afbc456eae7fc6b14feeb96b",
      "2fc528ac08e54337b7660d1328f64a11",
      "5db4bf581a774a8ea4e918a174a1ac4d",
      "e97f5424856e4f48b2923fe03e5441c6",
      "54becbb6d3d049bb9cb0d827586edb1a",
      "06cd4fa2d6ec4bb889e4e3725c00ced1",
      "0f8f7277d9d6474a812d231f80ecef1c",
      "fbfdb39077f44937943c9a598730262a",
      "f60dee720eaf48ffbe29f6982428f721",
      "091108a4d82949ec9c3776447b8fb714",
      "9d542d4a22d046c380ddbf663aee1c36",
      "36a4752d456b44088ccfe018e3273e41",
      "29386b3a5a64447e89525101c52f2580",
      "61a9a7642dda44bc9b21b5fbfd652730",
      "a5934ec17eb24b02bc4157327169c047",
      "e4a9a80cb7614252927c31e4652ea3e5",
      "17a1ae949f074c08999cb1c336872a8c",
      "67b4ab04a6d8438d9e3a779804d2591a",
      "da34de6f9d7b4dcc818f453d80a41c4d",
      "2e44e613f2304555b50fa3ca11321e76",
      "c3281865c1b44f27aec2322ef59512bd",
      "b19f82ac14f64356830100af048482ee",
      "e2bff3590a4346218d29f3bd502af72b",
      "e6fa0ffd08514e8b879d02bf1e7618ce",
      "a01e9e18254346a198af3ec7bc2b2e1b",
      "28ffcf11c71e4bbc96fa1e2e0f8dc4e5",
      "0c23c7f99f494e19b1195e2c56f20a3c",
      "999be22ac3584443acb5ea1bf2781364",
      "ddb75c6e1c7b49609c05ac6179e4ece0",
      "aa3b17fa5c724cf4b21750b7714dabdd",
      "c88e493d69ad4c22b08f61addfd20aab",
      "9abdcc0c99fa4a5eb1d0da66214cca09",
      "980eae04330f4b418f210ecae04a9bf8",
      "a72f311af3cc44b9affbc0435833af66",
      "e18e028e02714cc49a9656621891a011",
      "15ef63b248b445dea50507576bb15eb2",
      "c8c1157741b14c2da7c284e8784d58dd",
      "8cea9315ba9244a1856edb17070b65d2",
      "bb84ec9bb8044e0686f044a4665feb29",
      "5e779a06b8394089872ba7c0b19abf09",
      "1cb2d1a1aca34feb8cd3e5c0fe294eee",
      "9fb9f0c63c3f48fe9b2fee4ef8a36742",
      "0f0cdd38437445589f65a6edc110b27f",
      "26ef68255c0c40f189dcf1cd464bc2e3",
      "c95acbb4cd134a73991b0a0d4c6e7226",
      "9e8df89e6d7f4821af7daab005b96cb2",
      "f7c473ae1ef247c2aba04af6bcb4c8d2",
      "1e95e3506aff4237b15f0d5857025fb4",
      "bf62d4817c3c4241b7380502db6ed7cd",
      "6e146be033f4442c826d0311dc9092d8",
      "e6233d0772f340c3a55e4bd95dfcaa86",
      "d9ae0a6ffb17416c90c3f9477b8dddd0",
      "219cea8535c1410480c71f9b0b9c18ee",
      "964c485803b0483a82a8765d34337fae",
      "33b573b9c5d54b398f69622554369261",
      "9b64553458af4be28722d2c9c4360c88",
      "4d5fef8bae814e9da349ae111875d613",
      "fe6249d6c2974be7a62ec6f3a233f6f4",
      "239ea71efc224d679d140c1a9e6f0c17",
      "6d11007132374fd9a15736ba0db16147",
      "34869cd4d09742df9ba2f608b6e527d8",
      "7d5298a496004b0983e6d9738dc15d14",
      "d30a4fee973b4800857e8710d1391a94",
      "09515b16e5be4a9ab36f52a463e165c9",
      "940495fb787541c3ab15fa7f582f4fbe",
      "cbe95855869e4d9e8c54cd3836e8603e",
      "eb0fc5a100ee422389805132662994fe",
      "199fb4fc718744beb0a420c4ffa795de",
      "7894d63e9c384fb99c02187a2cb55d76"
     ]
    },
    "id": "cTZ7-ny6-ySI",
    "outputId": "4e528dfb-c9f5-456d-dd6e-4198eff4f32d"
   },
   "outputs": [
    {
     "data": {
      "application/vnd.jupyter.widget-view+json": {
       "model_id": "c4ba3c80ea604709bf611d8032088237",
       "version_major": 2,
       "version_minor": 0
      },
      "text/plain": [
       "tokenizer_config.json: 0.00B [00:01, ?B/s]"
      ]
     },
     "metadata": {},
     "output_type": "display_data"
    },
    {
     "data": {
      "application/vnd.jupyter.widget-view+json": {
       "model_id": "fe76560b6c154b37b249e27f47e9e61e",
       "version_major": 2,
       "version_minor": 0
      },
      "text/plain": [
       "tokenizer.model:   0%|          | 0.00/493k [00:00<?, ?B/s]"
      ]
     },
     "metadata": {},
     "output_type": "display_data"
    },
    {
     "data": {
      "application/vnd.jupyter.widget-view+json": {
       "model_id": "3a7a6745352046429d726640bd7131de",
       "version_major": 2,
       "version_minor": 0
      },
      "text/plain": [
       "tokenizer.json: 0.00B [00:00, ?B/s]"
      ]
     },
     "metadata": {},
     "output_type": "display_data"
    },
    {
     "data": {
      "application/vnd.jupyter.widget-view+json": {
       "model_id": "bfae2fa8ee6d4327878189ee40728f47",
       "version_major": 2,
       "version_minor": 0
      },
      "text/plain": [
       "added_tokens.json:   0%|          | 0.00/42.0 [00:00<?, ?B/s]"
      ]
     },
     "metadata": {},
     "output_type": "display_data"
    },
    {
     "data": {
      "application/vnd.jupyter.widget-view+json": {
       "model_id": "50235aa06e8f4cb8b123d4572c7224a7",
       "version_major": 2,
       "version_minor": 0
      },
      "text/plain": [
       "special_tokens_map.json:   0%|          | 0.00/168 [00:00<?, ?B/s]"
      ]
     },
     "metadata": {},
     "output_type": "display_data"
    },
    {
     "data": {
      "application/vnd.jupyter.widget-view+json": {
       "model_id": "597d7bac5c7d4c32be5c25a92e044cc6",
       "version_major": 2,
       "version_minor": 0
      },
      "text/plain": [
       "config.json:   0%|          | 0.00/638 [00:00<?, ?B/s]"
      ]
     },
     "metadata": {},
     "output_type": "display_data"
    },
    {
     "name": "stderr",
     "output_type": "stream",
     "text": [
      "`torch_dtype` is deprecated! Use `dtype` instead!\n"
     ]
    },
    {
     "data": {
      "application/vnd.jupyter.widget-view+json": {
       "model_id": "2e2d72de682c4cd5989c2b92c180dd3c",
       "version_major": 2,
       "version_minor": 0
      },
      "text/plain": [
       "model.safetensors.index.json: 0.00B [00:00, ?B/s]"
      ]
     },
     "metadata": {},
     "output_type": "display_data"
    },
    {
     "data": {
      "application/vnd.jupyter.widget-view+json": {
       "model_id": "5d10ee17099d4d9585422260fb08668c",
       "version_major": 2,
       "version_minor": 0
      },
      "text/plain": [
       "Fetching 8 files:   0%|          | 0/8 [00:00<?, ?it/s]"
      ]
     },
     "metadata": {},
     "output_type": "display_data"
    },
    {
     "data": {
      "application/vnd.jupyter.widget-view+json": {
       "model_id": "2f8d3d0e8f0f49b8b3f93420fa7bda50",
       "version_major": 2,
       "version_minor": 0
      },
      "text/plain": [
       "model-00001-of-00008.safetensors:   0%|          | 0.00/1.89G [00:00<?, ?B/s]"
      ]
     },
     "metadata": {},
     "output_type": "display_data"
    },
    {
     "data": {
      "application/vnd.jupyter.widget-view+json": {
       "model_id": "e866a0b7442e4216bdcae665079226ff",
       "version_major": 2,
       "version_minor": 0
      },
      "text/plain": [
       "model-00006-of-00008.safetensors:   0%|          | 0.00/1.95G [00:00<?, ?B/s]"
      ]
     },
     "metadata": {},
     "output_type": "display_data"
    },
    {
     "data": {
      "application/vnd.jupyter.widget-view+json": {
       "model_id": "030056a64e884e438d0d23931f2fb84e",
       "version_major": 2,
       "version_minor": 0
      },
      "text/plain": [
       "model-00008-of-00008.safetensors:   0%|          | 0.00/816M [00:00<?, ?B/s]"
      ]
     },
     "metadata": {},
     "output_type": "display_data"
    },
    {
     "data": {
      "application/vnd.jupyter.widget-view+json": {
       "model_id": "c815bd6d5f9f4037acea9ee8ff25843a",
       "version_major": 2,
       "version_minor": 0
      },
      "text/plain": [
       "model-00005-of-00008.safetensors:   0%|          | 0.00/1.98G [00:00<?, ?B/s]"
      ]
     },
     "metadata": {},
     "output_type": "display_data"
    },
    {
     "data": {
      "application/vnd.jupyter.widget-view+json": {
       "model_id": "e97f5424856e4f48b2923fe03e5441c6",
       "version_major": 2,
       "version_minor": 0
      },
      "text/plain": [
       "model-00004-of-00008.safetensors:   0%|          | 0.00/1.95G [00:00<?, ?B/s]"
      ]
     },
     "metadata": {},
     "output_type": "display_data"
    },
    {
     "data": {
      "application/vnd.jupyter.widget-view+json": {
       "model_id": "a5934ec17eb24b02bc4157327169c047",
       "version_major": 2,
       "version_minor": 0
      },
      "text/plain": [
       "model-00007-of-00008.safetensors:   0%|          | 0.00/1.98G [00:00<?, ?B/s]"
      ]
     },
     "metadata": {},
     "output_type": "display_data"
    },
    {
     "data": {
      "application/vnd.jupyter.widget-view+json": {
       "model_id": "28ffcf11c71e4bbc96fa1e2e0f8dc4e5",
       "version_major": 2,
       "version_minor": 0
      },
      "text/plain": [
       "model-00002-of-00008.safetensors:   0%|          | 0.00/1.95G [00:00<?, ?B/s]"
      ]
     },
     "metadata": {},
     "output_type": "display_data"
    },
    {
     "data": {
      "application/vnd.jupyter.widget-view+json": {
       "model_id": "c8c1157741b14c2da7c284e8784d58dd",
       "version_major": 2,
       "version_minor": 0
      },
      "text/plain": [
       "model-00003-of-00008.safetensors:   0%|          | 0.00/1.98G [00:00<?, ?B/s]"
      ]
     },
     "metadata": {},
     "output_type": "display_data"
    },
    {
     "data": {
      "application/vnd.jupyter.widget-view+json": {
       "model_id": "1e95e3506aff4237b15f0d5857025fb4",
       "version_major": 2,
       "version_minor": 0
      },
      "text/plain": [
       "Loading checkpoint shards:   0%|          | 0/8 [00:00<?, ?it/s]"
      ]
     },
     "metadata": {},
     "output_type": "display_data"
    },
    {
     "data": {
      "application/vnd.jupyter.widget-view+json": {
       "model_id": "239ea71efc224d679d140c1a9e6f0c17",
       "version_major": 2,
       "version_minor": 0
      },
      "text/plain": [
       "generation_config.json:   0%|          | 0.00/111 [00:00<?, ?B/s]"
      ]
     },
     "metadata": {},
     "output_type": "display_data"
    },
    {
     "name": "stderr",
     "output_type": "stream",
     "text": [
      "WARNING:accelerate.big_modeling:Some parameters are on the meta device because they were offloaded to the disk and cpu.\n",
      "Device set to use cpu\n",
      "/tmp/ipython-input-1461176198.py:21: LangChainDeprecationWarning: The class `HuggingFacePipeline` was deprecated in LangChain 0.0.37 and will be removed in 1.0. An updated version of the class exists in the :class:`~langchain-huggingface package and should be used instead. To use it run `pip install -U :class:`~langchain-huggingface` and import as `from :class:`~langchain_huggingface import HuggingFacePipeline``.\n",
      "  llm = HuggingFacePipeline(pipeline=generator)\n"
     ]
    }
   ],
   "source": [
    "# ------------------------------------------------------------\n",
    "# 4️⃣  Load an Open LLM (Zephyr-7B-Beta)\n",
    "# ------------------------------------------------------------\n",
    "model_id = \"HuggingFaceH4/zephyr-7b-beta\"  # ✅ fully open, no login needed\n",
    "\n",
    "tokenizer = AutoTokenizer.from_pretrained(model_id)\n",
    "model = AutoModelForCausalLM.from_pretrained(\n",
    "    model_id,\n",
    "    torch_dtype=torch.float16 if torch.cuda.is_available() else torch.float32,\n",
    "    device_map=\"auto\",\n",
    ")\n",
    "\n",
    "generator = pipeline(\n",
    "    \"text-generation\",\n",
    "    model=model,\n",
    "    tokenizer=tokenizer,\n",
    "    max_new_tokens=256,\n",
    "    temperature=0.3,\n",
    ")\n",
    "\n",
    "llm = HuggingFacePipeline(pipeline=generator)"
   ]
  },
  {
   "cell_type": "code",
   "execution_count": 10,
   "metadata": {
    "id": "-n3pxhIT-_4G"
   },
   "outputs": [],
   "source": [
    "# ------------------------------------------------------------ # 5️⃣ Create RAG Chain # ------------------------------------------------------------\n",
    "qa_chain = RetrievalQA.from_chain_type( llm=llm, chain_type=\"stuff\",\n",
    "                                       retriever=retriever,\n",
    "                                        return_source_documents=True, )"
   ]
  },
  {
   "cell_type": "code",
   "execution_count": 13,
   "metadata": {
    "colab": {
     "base_uri": "https://localhost:8080/"
    },
    "id": "RwVEHLuvAujt",
    "outputId": "32d5d0c7-26e3-4342-8ee9-8118c4ca3996"
   },
   "outputs": [
    {
     "name": "stderr",
     "output_type": "stream",
     "text": [
      "/tmp/ipython-input-2180726811.py:3: LangChainDeprecationWarning: The method `Chain.__call__` was deprecated in langchain 0.1.0 and will be removed in 1.0. Use :meth:`~invoke` instead.\n",
      "  result = qa_chain(query)\n"
     ]
    },
    {
     "name": "stdout",
     "output_type": "stream",
     "text": [
      "🤖 Answer:\n",
      "Use the following pieces of context to answer the question at the end. If you don't know the answer, just say that you don't know, don't try to make up an answer.\n",
      "\n",
      "The University of Miami offers a one-year Master’s in Data Science program.\n",
      "The curriculum emphasizes machine learning, deep learning, and statistics.\n",
      "An internship is required for graduation.\n",
      "Applications open each August and close each January.\n",
      "\n",
      "Question: When do applications open for the MS in Data Science program?\n",
      "Helpful Answer: Applications for the University of Miami's MS in Data Science program typically open in August. Is there any information provided about the application deadline for this program?\n",
      "\n",
      "📚 Source Docs:\n",
      "- The University of Miami offers a one-year Master’s in Data Science program.\n",
      "The curriculum emphasize ...\n"
     ]
    }
   ],
   "source": [
    "# ------------------------------------------------------------ # 6️⃣ Ask Questions # ------------------------------------------------------------\n",
    "query = \"When do applications open for the MS in Data Science program?\"\n",
    "result = qa_chain(query)\n",
    "print(\"🤖 Answer:\")\n",
    "print(result[\"result\"])\n",
    "print(\"\\n📚 Source Docs:\")\n",
    "for s in result[\"source_documents\"]: print(\"-\", s.page_content[:100], \"...\")"
   ]
  },
  {
   "cell_type": "code",
   "execution_count": 14,
   "metadata": {
    "colab": {
     "base_uri": "https://localhost:8080/"
    },
    "id": "PdmirCS6CeKj",
    "outputId": "1276147f-8f0d-425c-d722-32304dac25de"
   },
   "outputs": [
    {
     "name": "stderr",
     "output_type": "stream",
     "text": [
      "/tmp/ipython-input-4189669988.py:2: LangChainDeprecationWarning: The method `BaseRetriever.get_relevant_documents` was deprecated in langchain-core 0.1.46 and will be removed in 1.0. Use :meth:`~invoke` instead.\n",
      "  relevant = retriever.get_relevant_documents(query)\n"
     ]
    },
    {
     "name": "stdout",
     "output_type": "stream",
     "text": [
      "\n",
      "🔎 Retrieved Chunks:\n",
      "Chunk 1:\n",
      "The University of Miami offers a one-year Master’s in Data Science program.\n",
      "The curriculum emphasizes machine learning, deep learning, and statistics.\n",
      "An internship is required for graduation.\n",
      "Applications open each August and close each January.\n",
      "--------------------------------------------------\n"
     ]
    }
   ],
   "source": [
    "# ------------------------------------------------------------ # 7️⃣ Optional — Inspect Retrieved Chunks # ------------------------------------------------------------\n",
    "relevant = retriever.get_relevant_documents(query)\n",
    "print(\"\\n🔎 Retrieved Chunks:\")\n",
    "for i, doc in enumerate(relevant, start=1):\n",
    "  print(f\"Chunk {i}:\\n{doc.page_content}\\n{'-'*50}\")"
   ]
  },
  {
   "cell_type": "code",
   "execution_count": null,
   "metadata": {
    "id": "xCCNG-MGNqGO"
   },
   "outputs": [],
   "source": []
  }
 ],
 "metadata": {
  "colab": {
   "provenance": []
  },
  "kernelspec": {
   "display_name": "Python 3",
   "name": "python3"
  },
  "language_info": {
   "name": "python"
  }
 },
 "nbformat": 4,
 "nbformat_minor": 0
}
